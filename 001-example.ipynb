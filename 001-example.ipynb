{
 "cells": [
  {
   "cell_type": "markdown",
   "metadata": {},
   "source": [
    "# with recursive を試す\n",
    "\n",
    "参考: [link](https://qiita.com/Shoyu_N/items/f1786f99545fa5053b75)\n",
    "\n",
    "再起 with は、\n",
    "\n",
    "```sql\n",
    "with テーブル名 as (\n",
    "select ...\n",
    "union all\n",
    "select ...\n",
    "  from テーブル名 ...\n",
    "),\n",
    "...\n",
    "```\n",
    "\n",
    "という形をしている。\n",
    "\n",
    "- union all で 2 つの select を連結\n",
    "- 前半は、自分自身に言及しない`非再帰項`\n",
    "- 後半は、自分自身を参照する`再帰項`\n",
    "\n",
    "評価プロセスを理解するには、以下の 3 つのテーブルをイメージすると良い。\n",
    "\n",
    "- with テーブル\n",
    "- ワークテーブル\n",
    "- 結果テーブル\n",
    "\n",
    "評価の進行イメージ：\n",
    "\n",
    "1. 初期化：非再帰項を評価する → 結果を、with テーブル、結果テーブルに代入\n",
    "2. 再帰項を評価する → このとき、自分自身への参照は with テーブルを見る。結果をワークテーブルに代入する\n",
    "3. ワークテーブルが空でなければ、\n",
    "   - 結果テーブルにワークテーブルを union\n",
    "   - with テーブルをワークテーブルで置き換え、ワークテーブルを空に\n",
    "   - 2.に戻る\n",
    "4. 結果テーブルを返す\n",
    "\n",
    "- with テーブル: 再帰項が参照するテーブル\n",
    "- ワークテーブル: 一回の再帰の結果を保存するところ\n",
    "- 結果テーブル: 最終的な結果を積み上げとくところ\n",
    "\n",
    "という感じと理解。\n"
   ]
  },
  {
   "cell_type": "markdown",
   "metadata": {},
   "source": [
    "とりあえず、連番のテーブルを作ってみる。\n"
   ]
  },
  {
   "cell_type": "code",
   "execution_count": 2,
   "metadata": {},
   "outputs": [],
   "source": [
    "import pandas as pd\n",
    "import sqlite3\n",
    "\n",
    "def connect():\n",
    "    con = sqlite3.connect(\":memory:\")\n",
    "    con.row_factory = sqlite3.Row\n",
    "    return con\n",
    "\n",
    "def query(sql: str) -> pd.DataFrame:\n",
    "    con = connect()\n",
    "    return pd.read_sql_query(sql, con)"
   ]
  },
  {
   "cell_type": "code",
   "execution_count": 5,
   "metadata": {},
   "outputs": [
    {
     "data": {
      "text/html": [
       "<div>\n",
       "<style scoped>\n",
       "    .dataframe tbody tr th:only-of-type {\n",
       "        vertical-align: middle;\n",
       "    }\n",
       "\n",
       "    .dataframe tbody tr th {\n",
       "        vertical-align: top;\n",
       "    }\n",
       "\n",
       "    .dataframe thead th {\n",
       "        text-align: right;\n",
       "    }\n",
       "</style>\n",
       "<table border=\"1\" class=\"dataframe\">\n",
       "  <thead>\n",
       "    <tr style=\"text-align: right;\">\n",
       "      <th></th>\n",
       "      <th>num</th>\n",
       "    </tr>\n",
       "  </thead>\n",
       "  <tbody>\n",
       "    <tr>\n",
       "      <th>0</th>\n",
       "      <td>1</td>\n",
       "    </tr>\n",
       "    <tr>\n",
       "      <th>1</th>\n",
       "      <td>2</td>\n",
       "    </tr>\n",
       "    <tr>\n",
       "      <th>2</th>\n",
       "      <td>3</td>\n",
       "    </tr>\n",
       "    <tr>\n",
       "      <th>3</th>\n",
       "      <td>4</td>\n",
       "    </tr>\n",
       "    <tr>\n",
       "      <th>4</th>\n",
       "      <td>5</td>\n",
       "    </tr>\n",
       "    <tr>\n",
       "      <th>5</th>\n",
       "      <td>6</td>\n",
       "    </tr>\n",
       "    <tr>\n",
       "      <th>6</th>\n",
       "      <td>7</td>\n",
       "    </tr>\n",
       "    <tr>\n",
       "      <th>7</th>\n",
       "      <td>8</td>\n",
       "    </tr>\n",
       "    <tr>\n",
       "      <th>8</th>\n",
       "      <td>9</td>\n",
       "    </tr>\n",
       "  </tbody>\n",
       "</table>\n",
       "</div>"
      ],
      "text/plain": [
       "   num\n",
       "0    1\n",
       "1    2\n",
       "2    3\n",
       "3    4\n",
       "4    5\n",
       "5    6\n",
       "6    7\n",
       "7    8\n",
       "8    9"
      ]
     },
     "execution_count": 5,
     "metadata": {},
     "output_type": "execute_result"
    }
   ],
   "source": [
    "sql = f\"\"\"\n",
    "with recursive numbers as (\n",
    "  select 1 as num\n",
    "    union all\n",
    "  select\n",
    "    num + 1 as num\n",
    "  from\n",
    "    numbers\n",
    "  where\n",
    "    num < 9  \n",
    ")\n",
    "select * from numbers\n",
    "\"\"\"\n",
    "query(sql)"
   ]
  },
  {
   "cell_type": "markdown",
   "metadata": {},
   "source": [
    "`num < 9`だが、結果には 9 の行も含まれているのに注意。ちょっと見た目的に分かりづらいが、想定の挙動。\n",
    "\n",
    "`num < 9`という条件だと、with テーブルに 8 が含まれているときには、テーブルが空にならない。このとき、再帰項を評価して得られるのは、それに 1 足した値なので、9 が返ってくる。\n",
    "次の再帰では、`num < 9`という条件によって結果が空になり再帰が止まる。\n"
   ]
  }
 ],
 "metadata": {
  "kernelspec": {
   "display_name": ".venv",
   "language": "python",
   "name": "python3"
  },
  "language_info": {
   "codemirror_mode": {
    "name": "ipython",
    "version": 3
   },
   "file_extension": ".py",
   "mimetype": "text/x-python",
   "name": "python",
   "nbconvert_exporter": "python",
   "pygments_lexer": "ipython3",
   "version": "3.13.1"
  }
 },
 "nbformat": 4,
 "nbformat_minor": 2
}
